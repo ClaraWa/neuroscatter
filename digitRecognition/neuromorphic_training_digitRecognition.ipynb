{
 "cells": [
  {
   "cell_type": "code",
   "execution_count": null,
   "metadata": {},
   "outputs": [],
   "source": [
    "# -*- coding: utf-8 -*-\n",
    "\"\"\"\n",
    "Neuromorphic Setup (Nonlinear Transformation from Linear Wave Scattering)\n",
    "\n",
    "Code for training a neuromorphic device implementing nonlinear\n",
    "information processing via the parameter dependence of the\n",
    "scattering matrix.\n",
    "\n",
    "Attributes implemented here (see manuscript):\n",
    "- Transmission Setup\n",
    "- Fully Connected Structure\n",
    "- Data set: Fashion MNIST\n",
    "\n",
    "Requirements: jax, optax, tensorflow [only for data loading]\n",
    "\n",
    "Train the parameters in a scattering matrix using jax.\n",
    "\n",
    "NOTE:\n",
    "Directory 'outputs' needs to exist in the current directory!\n",
    "\n",
    "C. Wanjura and F. Marquardt\n",
    "2023/24, MIT License\n",
    "\"\"\""
   ]
  },
  {
   "cell_type": "code",
   "execution_count": null,
   "metadata": {},
   "outputs": [],
   "source": [
    "## NOTE: all physical parameters are expressed in units of the uniform decay rate kappa"
   ]
  },
  {
   "cell_type": "code",
   "execution_count": null,
   "metadata": {},
   "outputs": [],
   "source": [
    "## Import necessary libraries\n",
    "import os\n",
    "\n",
    "import numpy as np\n",
    "from numpy import loadtxt\n",
    "\n",
    "import time\n",
    "\n",
    "import matplotlib.pyplot as plt\n",
    "\n",
    "import jax\n",
    "import jax.numpy as jnp\n",
    "from jax import jit, vmap, grad\n",
    "from jax.scipy.linalg import expm\n",
    "from jax import random\n",
    "\n",
    "## key for random number generation with jax\n",
    "key = random.PRNGKey(0)"
   ]
  },
  {
   "cell_type": "markdown",
   "metadata": {},
   "source": [
    "load data"
   ]
  },
  {
   "cell_type": "code",
   "execution_count": null,
   "metadata": {},
   "outputs": [],
   "source": [
    "lines = loadtxt(\"optdigits.tra\", comments=\"#\", delimiter=\",\", unpack=False)\n",
    "lines_test = loadtxt(\"optdigits.tes\", comments=\"#\", delimiter=\",\", unpack=False)"
   ]
  },
  {
   "cell_type": "code",
   "execution_count": null,
   "metadata": {},
   "outputs": [],
   "source": [
    "## rescale image data: white pixles (background) are set to a detuning of 5, black pixels (foreground, numerals) are set to a detuning of 0 (resonant)\n",
    "\n",
    "## training images\n",
    "x_train_vect = jnp.complex64(jnp.array(5*(1 - (lines[:,0:64])/16)))\n",
    "y_train = np.array(lines[:,64], dtype = int)\n",
    "y_train_vect = jnp.zeros((len(lines),10))\n",
    "for jj in range(len(y_train)):\n",
    "    y_train_vect = y_train_vect.at[jj, int(y_train[jj])].set(1.0)\n",
    "y_train_vect = jnp.complex64(y_train_vect)\n",
    "\n",
    "## test images\n",
    "x_test_vect = jnp.complex64(jnp.array(5*(1 - (lines_test[:,0:64])/16)))\n",
    "y_test = np.array(lines_test[:,64], dtype = int)\n",
    "y_test_vect = jnp.zeros((len(lines_test),10))\n",
    "for jj in range(len(y_test)):\n",
    "    y_test_vect = y_test_vect.at[jj, int(y_test[jj])].set(1.0)\n",
    "y_test_vect = jnp.complex64(y_test_vect)"
   ]
  },
  {
   "cell_type": "markdown",
   "metadata": {},
   "source": [
    "setup neuromorphic system"
   ]
  },
  {
   "cell_type": "code",
   "execution_count": null,
   "metadata": {},
   "outputs": [],
   "source": [
    "## susceptibility matrices and the inverse of susceptibility matrices (in the paper referred to as G_n in Eqs. (12) to (15))\n",
    "## omega corresponds to the detuning \\Delta (note: the sign in front of omega here is arbitrary since these are trained parameters allowing for both positive and negative values)\n",
    "\n",
    "def invSuscept(gamma, omega):\n",
    "  return jnp.diag(-gamma/2 + 1j*omega)\n",
    "\n",
    "def suscept(gamma, omega):\n",
    "  return jnp.diag(1/(-gamma/2 + 1j*omega))\n",
    "\n",
    "# omega0 will later encode the input data\n",
    "def susceptLayer0(gamma, omega, omega0):\n",
    "  return jnp.diag(1/(-gamma/2 - 1j*omega - 1j*omega0))"
   ]
  },
  {
   "cell_type": "code",
   "execution_count": null,
   "metadata": {},
   "outputs": [],
   "source": [
    "## functions to generate vectors (to initialise detunings) or matrices (to initialise coupling matrices) of real random numbers\n",
    "## Nj refers the size of the jth layer\n",
    "\n",
    "## uniform distribution between 0 and 1\n",
    "def randomVector(subkey, Nj):\n",
    "  return jnp.complex64(random.uniform(subkey, shape=(Nj,)))\n",
    "\n",
    "def randomJJ(subkey, N1, N2):\n",
    "  return jnp.complex64(random.uniform(subkey, shape=(N1,N2)))\n",
    "\n",
    "## Gaussian distribution \n",
    "def randomVectorGauss(Nj):\n",
    "  return np.complex64(np.random.normal(0, 5, size = (Nj,)))\n",
    "\n",
    "def randomJJGauss(N1, N2):\n",
    "  return np.complex64(np.random.normal(0, 5, size = (N1,N2)))"
   ]
  },
  {
   "cell_type": "code",
   "execution_count": null,
   "metadata": {},
   "outputs": [],
   "source": [
    "''''\n",
    "This function calculates the output of the neuromorphic system according to the\n",
    "definition of the scattering matrix in Eq. (15) of the paper.\n",
    "\n",
    "We consider a three-layer network. Physical quantities are indexed according to the layer (0 to 2).\n",
    "\n",
    "We use the following notation:\n",
    "\n",
    "x : vector of input data\n",
    "x_tmp : vector of input data in which data is replicated R times (input replication)\n",
    "xVect : vector of replicated input data + initial detuning offsets\n",
    "\n",
    "layer0 : G_0 in Eqs. (12) to (15)\n",
    "layer1 : G_1\n",
    "layer2 : G_2 (the output layer)\n",
    "\n",
    "gamma0, gamma1, gamma2 : decay rates in layers 0, 1 and 2 (later considered uniform in the system)\n",
    "omega0 : detuning off-set in layer 0 (in which also the data input enters)\n",
    "omega1, omega2: detunings in layers 1 and 2\n",
    "\n",
    "JJ0 : coupling matrix between layer 0 and layer 1\n",
    "JJ1 : coupling matrix between layer 1 and 2\n",
    "''''\n",
    "\n",
    "def network(x, JJ0, JJ1, gamma0, gamma1, gamma2, omega0, omega1, omega2):\n",
    "  x_tmp = jnp.repeat(x, 2) ## input replication is 2\n",
    "  xVect = x_tmp + omega0\n",
    "  layer0 = susceptLayer0(gamma0, xVect, omega0)\n",
    "  layer1 = jnp.linalg.inv(invSuscept(gamma1, omega1) + jnp.matmul(jnp.matmul(jnp.conjugate(jnp.transpose(JJ0)), layer0), JJ0))\n",
    "  layer2 = jnp.linalg.inv(invSuscept(gamma2, omega2) + jnp.matmul(jnp.matmul(jnp.conjugate(jnp.transpose(JJ1)), layer1), JJ1))\n",
    "  return jnp.diag(jnp.identity(len(gamma2)) + jnp.matmul(jnp.matmul(jnp.diag(jnp.sqrt(gamma2)), layer2), jnp.diag(jnp.sqrt(gamma2))))\n",
    "\n",
    "network_jit = jax.jit(network)"
   ]
  },
  {
   "cell_type": "code",
   "execution_count": null,
   "metadata": {},
   "outputs": [],
   "source": [
    "## categorical cross-entropy cost function\n",
    "\n",
    "## x: input, y: output to be learned\n",
    "\n",
    "def costF(x, y, JJ0, JJ1, gamma0, gamma1, gamma2, omega0, omega1, omega2):\n",
    "  prob = jnp.log(jax.nn.softmax(8 * jnp.imag(network(x, JJ0, JJ1, gamma0, gamma1, gamma2, omega0, omega1, omega2))))\n",
    "  return - jnp.dot(prob, y)\n",
    "\n",
    "## evaluate cost function over entire batch/ training set\n",
    "def costF_vmap(x, y, JJ0, JJ1, gamma0, gamma1, gamma2, omega0, omega1, omega2):\n",
    "  return jnp.mean(vmap(costF, in_axes = (0,0,None,None,None,None,None,None,None,None), out_axes=0)(x, y, JJ0, JJ1, gamma0, gamma1, gamma2, omega0, omega1, omega2),axis=0)\n",
    "\n",
    "## function returns gradient of averaged cost function\n",
    "## differentiates w.r.t. JJ0, JJ1, omega0, omega1, omega2\n",
    "def costF_grad_all_mean(x, y, JJ0, JJ1, gamma0, gamma1, gamma2, omega0, omega1, omega2):\n",
    "  return grad(costF_vmap, argnums=[2,3,7,8,9], holomorphic=True)(x, y, JJ0, JJ1, gamma0, gamma1, gamma2, omega0, omega1, omega2)\n",
    "\n",
    "costF_grad_all_mean_jit = jax.jit(costF_grad_all_mean)\n",
    "\n",
    "## function returns gradient of averaged cost function as well as the average value of the cost function\n",
    "## differentiates w.r.t. JJ0, JJ1, omega0, omega1, omega2\n",
    "def costF_value_and_grad_all_mean(x, y, JJ0, JJ1, gamma0, gamma1, gamma2, omega0, omega1, omega2):\n",
    "  return jax.value_and_grad(costF_vmap, argnums=[2,3,7,8,9], holomorphic=True)(x, y, JJ0, JJ1, gamma0, gamma1, gamma2, omega0, omega1, omega2)\n",
    "\n",
    "costF_value_and_grad_all_mean_jit = jax.jit(costF_value_and_grad_all_mean)"
   ]
  },
  {
   "cell_type": "markdown",
   "metadata": {},
   "source": [
    "training for hidden layer size 80"
   ]
  },
  {
   "cell_type": "code",
   "execution_count": null,
   "metadata": {},
   "outputs": [],
   "source": [
    "## initialise\n",
    "\n",
    "'''' layer sizes:\n",
    "N0 = R * input_dimensions\n",
    "N1 : hidden layer size\n",
    "N2 = 10 (output dimension)\n",
    "''''\n",
    "\n",
    "N0 = 2*64\n",
    "N1 = 80\n",
    "N2 = 10\n",
    "\n",
    "gamma_max = 1.0\n",
    "\n",
    "## keys and subkeys for jax random number generator\n",
    "key, subkey1 = random.split(key)\n",
    "key, subkey2 = random.split(key)\n",
    "key, subkey3 = random.split(key)\n",
    "key, subkey4 = random.split(key)\n",
    "key, subkey5 = random.split(key)\n",
    "key, subkey6 = random.split(key)\n",
    "key, subkey7 = random.split(key)\n",
    "key, subkey8 = random.split(key)\n",
    "\n",
    "## detuning off-sets initially alternate between +2 and -2\n",
    "omega0 = np.empty((N0,),int)\n",
    "omega0[::2] = 2\n",
    "omega0[1::2] = -2\n",
    "omega0 = jnp.complex64(omega0 * gamma_max)\n",
    "\n",
    "## uniform decay\n",
    "gamma0 = 0.5 * gamma_max * jnp.complex64(jnp.ones((1,N0))[0])\n",
    "gamma1 = 0.5 * gamma_max * jnp.complex64(jnp.ones((1,N1))[0])\n",
    "gamma2 = 0.5 * gamma_max * jnp.complex64(jnp.ones((1,N2))[0])\n",
    "\n",
    "## initialise detunings in hidden layer and output layer\n",
    "## empirical observation: initialising with small, positive values leads to faster convergence and better performance (for this data set)\n",
    "omega1 = jnp.complex64(jnp.zeros((1,N1))[0]) + 0.001 * jnp.complex64(randomVector(subkey1, N1))\n",
    "omega2 = jnp.complex64(jnp.zeros((1,N2))[0]) + 0.001 * jnp.complex64(randomVector(subkey3, N2))\n",
    "\n",
    "## initialise coupling matrices to kappa + 0.1 * xi (with xi a random number between 0 and 1)\n",
    "JJ0 = gamma_max * jnp.complex64(jnp.ones((N0,N1))) + 0.1 * jnp.complex64(randomJJ(subkey4, N0, N1))\n",
    "JJ1 = gamma_max * jnp.complex64(jnp.ones((N1,N2))) + 0.1 * jnp.complex64(randomJJ(subkey5, N1, N2))"
   ]
  },
  {
   "cell_type": "code",
   "execution_count": null,
   "metadata": {},
   "outputs": [],
   "source": [
    "''''\n",
    "acc_classif_train : stores training accuracy\n",
    "acc_classif_test : stores test accuracy\n",
    "prec : stores cost function\n",
    "''''\n",
    "\n",
    "acc_classif_train = jnp.array([])\n",
    "acc_classif_test = jnp.array([])\n",
    "prec = jnp.array([])\n",
    "\n",
    "number_epochs = 5000"
   ]
  },
  {
   "cell_type": "code",
   "execution_count": null,
   "metadata": {},
   "outputs": [],
   "source": [
    "learning_rate = 20*1e-2\n",
    "batch_size = 200\n",
    "\n",
    "## x_train_vect is not divisible by 200\n",
    "## need to handle last minibatch of epoch separately\n",
    "iterations_per_batch = int(len(x_train_vect) / batch_size)\n",
    "last_step = True ## true after the last step of the epoch has been performed and the remaining samples have been taken care of\n",
    "\n",
    "## 19 steps correspond to one epoch (the last step handles the smaller mini-batch )\n",
    "for j in range(19 * number_epochs):\n",
    "\n",
    "    ## first step after an epoch has been evaluated\n",
    "    if (j % iterations_per_batch == 0) and last_step:\n",
    "        random_mix_2 = np.random.choice(len(x_train_vect), len(x_train_vect), replace = False)\n",
    "        last_setp = False\n",
    "  \n",
    "    ## at the end of an epoch evaluate the mini-batch with the remaining samples\n",
    "    if (j % iterations_per_batch == 0) and not last_step:\n",
    "        batch_subset = random_mix_2[iterations_per_batch * batch_size : ]\n",
    "        last_step = True ## this was the last set of the epoch\n",
    "        j -= 1\n",
    "    else:\n",
    "        batch_subset = random_mix_2[(j % iterations_per_batch) * batch_size : (j % iterations_per_batch+1) * batch_size]\n",
    "  \n",
    "    #batch_subset = np.random.choice(len(x_train_vect), batch_size, replace = False)\n",
    "    x_minibatch = x_train_vect[batch_subset]\n",
    "    y_minibatch = y_train_vect[batch_subset]\n",
    "\n",
    "    prec_val, [JJ0_grad, JJ1_grad, omega0_grad, omega1_grad, omega2_grad] = costF_value_and_grad_all_mean_jit(x_minibatch, y_minibatch, JJ0, JJ1, gamma0, gamma1, gamma2, omega0, omega1, omega2)\n",
    "\n",
    "    JJ0 -= learning_rate * jnp.complex64(jnp.real(JJ0_grad))\n",
    "    JJ1 -= learning_rate * jnp.complex64(jnp.real(JJ1_grad))\n",
    "    omega0 -= learning_rate * jnp.complex64(jnp.real(omega0_grad))\n",
    "    omega1 -= learning_rate * jnp.complex64(jnp.real(omega1_grad))\n",
    "    omega2 -= learning_rate * jnp.complex64(jnp.real(omega2_grad))\n",
    "\n",
    "    prec = jnp.append(prec, jnp.real(prec_val))\n",
    "    \n",
    "    if j % 60 == 0: ## every 3 epochs\n",
    "        out_network = jnp.ravel(jnp.imag(vmap(network_jit, in_axes = (0,None,None,None,None,None,None,None,None), out_axes = 0)(x_train_vect, JJ0, JJ1, gamma0, gamma1, gamma2, omega0, omega1, omega2)))\n",
    "        out_network = out_network.reshape(len(x_train_vect), 10)\n",
    "        acc_classif_train = jnp.append(acc_classif_train, sum(jnp.argmax(out_network, axis = 1) == y_train)/len(x_train_vect) )\n",
    "\n",
    "        out_network_test = jnp.ravel(jnp.imag(vmap(network_jit, in_axes = (0,None,None,None,None,None,None,None,None), out_axes = 0)(x_test_vect, JJ0, JJ1, gamma0, gamma1, gamma2, omega0, omega1, omega2)))\n",
    "        out_network_test = out_network_test.reshape(len(x_test_vect), 10)\n",
    "        acc_classif_test = jnp.append(acc_classif_test, sum(jnp.argmax(out_network_test, axis = 1) == y_test)/len(x_test_vect) )\n",
    "\n",
    "  \n",
    "    ## save all system parameters after one epoch\n",
    "    ## comment out to save disk space\n",
    "    if last_step or (j == 0):\n",
    "        np.savetxt(\"epoch=\" + str(int(j/iterations_per_batch)) + \"_JJ0.csv\", JJ0, delimiter=\",\")\n",
    "        np.savetxt(\"epoch=\" + str(int(j/iterations_per_batch)) + \"_JJ1.csv\", JJ1, delimiter=\",\")\n",
    "        np.savetxt(\"epoch=\" + str(int(j/iterations_per_batch)) + \"_omega0.csv\", omega0, delimiter=\",\")\n",
    "        np.savetxt(\"epoch=\" + str(int(j/iterations_per_batch)) + \"_omega1.csv\", omega1, delimiter=\",\")\n",
    "        np.savetxt(\"epoch=\" + str(int(j/iterations_per_batch)) + \"_omega2.csv\", omega2, delimiter=\",\")\n",
    "\n",
    "out_network = jnp.ravel(jnp.imag(vmap(network_jit, in_axes = (0,None,None,None,None,None,None,None,None), out_axes = 0)(x_train_vect, JJ0, JJ1, gamma0, gamma1, gamma2, omega0, omega1, omega2)))"
   ]
  },
  {
   "cell_type": "code",
   "execution_count": null,
   "metadata": {},
   "outputs": [
    {
     "data": {
      "text/plain": [
       "[<matplotlib.lines.Line2D at 0x2892be290>]"
      ]
     },
     "metadata": {},
     "output_type": "display_data"
    },
    {
     "data": {
      "image/png": "[encoded data removed]",
      "text/plain": [
       "<Figure size 640x480 with 1 Axes>"
      ]
     },
     "metadata": {},
     "output_type": "display_data"
    }
   ],
   "source": [
    "plt.ylabel('test accuracy')\n",
    "plt.xlabel('number of epochs')\n",
    "plt.ylim([.9,1])\n",
    "\n",
    "plt.plot(jnp.arange(1,3*len(acc_classif_train),3), acc_classif_train)\n",
    "plt.plot(jnp.arange(1,3*len(acc_classif_test),3), acc_classif_test)"
   ]
  },
  {
   "cell_type": "code",
   "execution_count": null,
   "metadata": {},
   "outputs": [
    {
     "data": {
      "text/plain": [
       "Array(0.9710629, dtype=float32)"
      ]
     },
     "metadata": {},
     "output_type": "display_data"
    }
   ],
   "source": [
    "np.max(acc_classif_test)"
   ]
  },
  {
   "cell_type": "code",
   "execution_count": null,
   "metadata": {},
   "outputs": [
    {
     "data": {
      "text/plain": [
       "Array(1., dtype=float32)"
      ]
     },
     "metadata": {},
     "output_type": "display_data"
    }
   ],
   "source": [
    "np.max(acc_classif_train)"
   ]
  },
  {
   "cell_type": "code",
   "execution_count": null,
   "metadata": {},
   "outputs": [],
   "source": [
    "np.savetxt(\"N2=80_accuracy_test.csv\", acc_classif_test, delimiter=\",\")"
   ]
  },
  {
   "cell_type": "code",
   "execution_count": null,
   "metadata": {},
   "outputs": [],
   "source": [
    "np.savetxt(\"N2=80_accuracy_training.csv\", acc_classif_train, delimiter=\",\")"
   ]
  },
  {
   "cell_type": "code",
   "execution_count": null,
   "metadata": {},
   "outputs": [],
   "source": [
    "np.savetxt(\"N2=80_costfunction.csv\", prec, delimiter=\",\")"
   ]
  },
  {
   "cell_type": "markdown",
   "metadata": {},
   "source": [
    "training for hidden layer size 60"
   ]
  },
  {
   "cell_type": "code",
   "execution_count": null,
   "metadata": {},
   "outputs": [],
   "source": [
    "## initialise\n",
    "\n",
    "'''' layer sizes:\n",
    "N0 = R * input_dimensions\n",
    "N1 : hidden layer size\n",
    "N2 = 10 (output dimension)\n",
    "''''\n",
    "\n",
    "N0 = 2*64\n",
    "N1 = 60\n",
    "N2 = 10\n",
    "\n",
    "gamma_max = 1.0\n",
    "\n",
    "## keys and subkeys for jax random number generator\n",
    "key, subkey1 = random.split(key)\n",
    "key, subkey2 = random.split(key)\n",
    "key, subkey3 = random.split(key)\n",
    "key, subkey4 = random.split(key)\n",
    "key, subkey5 = random.split(key)\n",
    "key, subkey6 = random.split(key)\n",
    "key, subkey7 = random.split(key)\n",
    "key, subkey8 = random.split(key)\n",
    "\n",
    "## detuning off-sets initially alternate between +2 and -2\n",
    "omega0 = np.empty((N0,),int)\n",
    "omega0[::2] = 2\n",
    "omega0[1::2] = -2\n",
    "omega0 = jnp.complex64(omega0 * gamma_max)\n",
    "\n",
    "## uniform decay\n",
    "gamma0 = 0.5 * gamma_max * jnp.complex64(jnp.ones((1,N0))[0])\n",
    "gamma1 = 0.5 * gamma_max * jnp.complex64(jnp.ones((1,N1))[0])\n",
    "gamma2 = 0.5 * gamma_max * jnp.complex64(jnp.ones((1,N2))[0])\n",
    "\n",
    "## initialise detunings in hidden layer and output layer\n",
    "## empirical observation: initialising with small, positive values leads to faster convergence and better performance (for this data set)\n",
    "omega1 = jnp.complex64(jnp.zeros((1,N1))[0]) + 0.001 * jnp.complex64(randomVector(subkey1, N1))\n",
    "omega2 = jnp.complex64(jnp.zeros((1,N2))[0]) + 0.001 * jnp.complex64(randomVector(subkey3, N2))\n",
    "\n",
    "## initialise coupling matrices to kappa + 0.1 * xi (with xi a random number between 0 and 1)\n",
    "JJ0 = gamma_max * jnp.complex64(jnp.ones((N0,N1))) + 0.1 * jnp.complex64(randomJJ(subkey4, N0, N1))\n",
    "JJ1 = gamma_max * jnp.complex64(jnp.ones((N1,N2))) + 0.1 * jnp.complex64(randomJJ(subkey5, N1, N2))"
   ]
  },
  {
   "cell_type": "code",
   "execution_count": null,
   "metadata": {},
   "outputs": [],
   "source": [
    "''''\n",
    "acc_classif_train : stores training accuracy\n",
    "acc_classif_test : stores test accuracy\n",
    "prec : stores cost function\n",
    "''''\n",
    "\n",
    "acc_classif_train = jnp.array([])\n",
    "acc_classif_test = jnp.array([])\n",
    "prec = jnp.array([])\n",
    "\n",
    "number_epochs = 5000"
   ]
  },
  {
   "cell_type": "code",
   "execution_count": null,
   "metadata": {},
   "outputs": [],
   "source": [
    "learning_rate = 20*1e-2\n",
    "batch_size = 200\n",
    "\n",
    "## x_train_vect is not divisible by 200\n",
    "## need to handle last minibatch of epoch separately\n",
    "iterations_per_batch = int(len(x_train_vect) / batch_size)\n",
    "last_step = True ## true after the last step of the epoch has been performed and the remaining samples have been taken care of\n",
    "\n",
    "## 19 steps correspond to one epoch (the last step handles the smaller mini-batch )\n",
    "for j in range(19 * number_epochs):\n",
    "\n",
    "    ## first step after an epoch has been evaluated\n",
    "    if (j % iterations_per_batch == 0) and last_step:\n",
    "        random_mix_2 = np.random.choice(len(x_train_vect), len(x_train_vect), replace = False)\n",
    "        last_setp = False\n",
    "  \n",
    "    ## at the end of an epoch evaluate the mini-batch with the remaining samples\n",
    "    if (j % iterations_per_batch == 0) and not last_step:\n",
    "        batch_subset = random_mix_2[iterations_per_batch * batch_size : ]\n",
    "        last_step = True ## this was the last set of the epoch\n",
    "        j -= 1\n",
    "    else:\n",
    "        batch_subset = random_mix_2[(j % iterations_per_batch) * batch_size : (j % iterations_per_batch+1) * batch_size]\n",
    "  \n",
    "    #batch_subset = np.random.choice(len(x_train_vect), batch_size, replace = False)\n",
    "    x_minibatch = x_train_vect[batch_subset]\n",
    "    y_minibatch = y_train_vect[batch_subset]\n",
    "\n",
    "    prec_val, [JJ0_grad, JJ1_grad, omega0_grad, omega1_grad, omega2_grad] = costF_value_and_grad_all_mean_jit(x_minibatch, y_minibatch, JJ0, JJ1, gamma0, gamma1, gamma2, omega0, omega1, omega2)\n",
    "\n",
    "    JJ0 -= learning_rate * jnp.complex64(jnp.real(JJ0_grad))\n",
    "    JJ1 -= learning_rate * jnp.complex64(jnp.real(JJ1_grad))\n",
    "    omega0 -= learning_rate * jnp.complex64(jnp.real(omega0_grad))\n",
    "    omega1 -= learning_rate * jnp.complex64(jnp.real(omega1_grad))\n",
    "    omega2 -= learning_rate * jnp.complex64(jnp.real(omega2_grad))\n",
    "\n",
    "    prec = jnp.append(prec, jnp.real(prec_val))\n",
    "    \n",
    "    if j % 60 == 0: ## every 3 epochs\n",
    "        out_network = jnp.ravel(jnp.imag(vmap(network_jit, in_axes = (0,None,None,None,None,None,None,None,None), out_axes = 0)(x_train_vect, JJ0, JJ1, gamma0, gamma1, gamma2, omega0, omega1, omega2)))\n",
    "        out_network = out_network.reshape(len(x_train_vect), 10)\n",
    "        acc_classif_train = jnp.append(acc_classif_train, sum(jnp.argmax(out_network, axis = 1) == y_train)/len(x_train_vect) )\n",
    "\n",
    "        out_network_test = jnp.ravel(jnp.imag(vmap(network_jit, in_axes = (0,None,None,None,None,None,None,None,None), out_axes = 0)(x_test_vect, JJ0, JJ1, gamma0, gamma1, gamma2, omega0, omega1, omega2)))\n",
    "        out_network_test = out_network_test.reshape(len(x_test_vect), 10)\n",
    "        acc_classif_test = jnp.append(acc_classif_test, sum(jnp.argmax(out_network_test, axis = 1) == y_test)/len(x_test_vect) )\n",
    "\n",
    "  \n",
    "    ## save all system parameters after one epoch\n",
    "    ## comment out to save disk space\n",
    "    if last_step or (j == 0):\n",
    "        np.savetxt(\"epoch=\" + str(int(j/iterations_per_batch)) + \"_JJ0.csv\", JJ0, delimiter=\",\")\n",
    "        np.savetxt(\"epoch=\" + str(int(j/iterations_per_batch)) + \"_JJ1.csv\", JJ1, delimiter=\",\")\n",
    "        np.savetxt(\"epoch=\" + str(int(j/iterations_per_batch)) + \"_omega0.csv\", omega0, delimiter=\",\")\n",
    "        np.savetxt(\"epoch=\" + str(int(j/iterations_per_batch)) + \"_omega1.csv\", omega1, delimiter=\",\")\n",
    "        np.savetxt(\"epoch=\" + str(int(j/iterations_per_batch)) + \"_omega2.csv\", omega2, delimiter=\",\")\n",
    "\n",
    "out_network = jnp.ravel(jnp.imag(vmap(network_jit, in_axes = (0,None,None,None,None,None,None,None,None), out_axes = 0)(x_train_vect, JJ0, JJ1, gamma0, gamma1, gamma2, omega0, omega1, omega2)))"
   ]
  },
  {
   "cell_type": "code",
   "execution_count": null,
   "metadata": {},
   "outputs": [
    {
     "data": {
      "text/plain": [
       "[<matplotlib.lines.Line2D at 0x7d3fe352d0>]"
      ]
     },
     "metadata": {},
     "output_type": "display_data"
    },
    {
     "data": {
      "image/png": "[encoded data removed]",
      "text/plain": [
       "<Figure size 640x480 with 1 Axes>"
      ]
     },
     "metadata": {},
     "output_type": "display_data"
    }
   ],
   "source": [
    "plt.ylabel('test accuracy')\n",
    "plt.xlabel('number of epochs')\n",
    "plt.ylim([.9,1])\n",
    "\n",
    "plt.plot(jnp.arange(1,3*len(acc_classif_train),3), acc_classif_train)\n",
    "plt.plot(jnp.arange(1,3*len(acc_classif_test),3), acc_classif_test)"
   ]
  },
  {
   "cell_type": "code",
   "execution_count": null,
   "metadata": {},
   "outputs": [
    {
     "data": {
      "text/plain": [
       "Array(0.96215916, dtype=float32)"
      ]
     },
     "metadata": {},
     "output_type": "display_data"
    }
   ],
   "source": [
    "np.max(acc_classif_test)"
   ]
  },
  {
   "cell_type": "code",
   "execution_count": null,
   "metadata": {},
   "outputs": [
    {
     "data": {
      "text/plain": [
       "Array(1., dtype=float32)"
      ]
     },
     "metadata": {},
     "output_type": "display_data"
    }
   ],
   "source": [
    "np.max(acc_classif_train)"
   ]
  },
  {
   "cell_type": "code",
   "execution_count": null,
   "metadata": {},
   "outputs": [],
   "source": [
    "np.savetxt(\"N2=60_accuracy_test_run2.csv\", acc_classif_test, delimiter=\",\")"
   ]
  },
  {
   "cell_type": "code",
   "execution_count": null,
   "metadata": {},
   "outputs": [],
   "source": [
    "np.savetxt(\"N2=60_accuracy_training_run2.csv\", acc_classif_train, delimiter=\",\")"
   ]
  },
  {
   "cell_type": "code",
   "execution_count": null,
   "metadata": {},
   "outputs": [],
   "source": [
    "np.savetxt(\"N2=60_costfunction_run2.csv\", prec, delimiter=\",\")"
   ]
  },
  {
   "cell_type": "markdown",
   "metadata": {},
   "source": [
    "trainining for hidden layer size 30"
   ]
  },
  {
   "cell_type": "code",
   "execution_count": null,
   "metadata": {},
   "outputs": [],
   "source": [
    "## initialise\n",
    "\n",
    "'''' layer sizes:\n",
    "N0 = R * input_dimensions\n",
    "N1 : hidden layer size\n",
    "N2 = 10 (output dimension)\n",
    "''''\n",
    "\n",
    "N0 = 2*64\n",
    "N1 = 30\n",
    "N2 = 10\n",
    "\n",
    "gamma_max = 1.0\n",
    "\n",
    "## keys and subkeys for jax random number generator\n",
    "key, subkey1 = random.split(key)\n",
    "key, subkey2 = random.split(key)\n",
    "key, subkey3 = random.split(key)\n",
    "key, subkey4 = random.split(key)\n",
    "key, subkey5 = random.split(key)\n",
    "key, subkey6 = random.split(key)\n",
    "key, subkey7 = random.split(key)\n",
    "key, subkey8 = random.split(key)\n",
    "\n",
    "## detuning off-sets initially alternate between +2 and -2\n",
    "omega0 = np.empty((N0,),int)\n",
    "omega0[::2] = 2\n",
    "omega0[1::2] = -2\n",
    "omega0 = jnp.complex64(omega0 * gamma_max)\n",
    "\n",
    "## uniform decay\n",
    "gamma0 = 0.5 * gamma_max * jnp.complex64(jnp.ones((1,N0))[0])\n",
    "gamma1 = 0.5 * gamma_max * jnp.complex64(jnp.ones((1,N1))[0])\n",
    "gamma2 = 0.5 * gamma_max * jnp.complex64(jnp.ones((1,N2))[0])\n",
    "\n",
    "## initialise detunings in hidden layer and output layer\n",
    "## empirical observation: initialising with small, positive values leads to faster convergence and better performance (for this data set)\n",
    "omega1 = jnp.complex64(jnp.zeros((1,N1))[0]) + 0.001 * jnp.complex64(randomVector(subkey1, N1))\n",
    "omega2 = jnp.complex64(jnp.zeros((1,N2))[0]) + 0.001 * jnp.complex64(randomVector(subkey3, N2))\n",
    "\n",
    "## initialise coupling matrices to kappa + 0.1 * xi (with xi a random number between 0 and 1)\n",
    "JJ0 = gamma_max * jnp.complex64(jnp.ones((N0,N1))) + 0.1 * jnp.complex64(randomJJ(subkey4, N0, N1))\n",
    "JJ1 = gamma_max * jnp.complex64(jnp.ones((N1,N2))) + 0.1 * jnp.complex64(randomJJ(subkey5, N1, N2))"
   ]
  },
  {
   "cell_type": "code",
   "execution_count": null,
   "metadata": {},
   "outputs": [],
   "source": [
    "''''\n",
    "acc_classif_train : stores training accuracy\n",
    "acc_classif_test : stores test accuracy\n",
    "prec : stores cost function\n",
    "''''\n",
    "\n",
    "acc_classif_train = jnp.array([])\n",
    "acc_classif_test = jnp.array([])\n",
    "prec = jnp.array([])\n",
    "\n",
    "number_epochs = 5000"
   ]
  },
  {
   "cell_type": "code",
   "execution_count": null,
   "metadata": {},
   "outputs": [],
   "source": [
    "learning_rate = 20*1e-2\n",
    "batch_size = 200\n",
    "\n",
    "## x_train_vect is not divisible by 200\n",
    "## need to handle last minibatch of epoch separately\n",
    "iterations_per_batch = int(len(x_train_vect) / batch_size)\n",
    "last_step = True ## true after the last step of the epoch has been performed and the remaining samples have been taken care of\n",
    "\n",
    "## 19 steps correspond to one epoch (the last step handles the smaller mini-batch )\n",
    "for j in range(19 * number_epochs):\n",
    "\n",
    "    ## first step after an epoch has been evaluated\n",
    "    if (j % iterations_per_batch == 0) and last_step:\n",
    "        random_mix_2 = np.random.choice(len(x_train_vect), len(x_train_vect), replace = False)\n",
    "        last_setp = False\n",
    "  \n",
    "    ## at the end of an epoch evaluate the mini-batch with the remaining samples\n",
    "    if (j % iterations_per_batch == 0) and not last_step:\n",
    "        batch_subset = random_mix_2[iterations_per_batch * batch_size : ]\n",
    "        last_step = True ## this was the last set of the epoch\n",
    "        j -= 1\n",
    "    else:\n",
    "        batch_subset = random_mix_2[(j % iterations_per_batch) * batch_size : (j % iterations_per_batch+1) * batch_size]\n",
    "  \n",
    "    #batch_subset = np.random.choice(len(x_train_vect), batch_size, replace = False)\n",
    "    x_minibatch = x_train_vect[batch_subset]\n",
    "    y_minibatch = y_train_vect[batch_subset]\n",
    "\n",
    "    prec_val, [JJ0_grad, JJ1_grad, omega0_grad, omega1_grad, omega2_grad] = costF_value_and_grad_all_mean_jit(x_minibatch, y_minibatch, JJ0, JJ1, gamma0, gamma1, gamma2, omega0, omega1, omega2)\n",
    "\n",
    "    JJ0 -= learning_rate * jnp.complex64(jnp.real(JJ0_grad))\n",
    "    JJ1 -= learning_rate * jnp.complex64(jnp.real(JJ1_grad))\n",
    "    omega0 -= learning_rate * jnp.complex64(jnp.real(omega0_grad))\n",
    "    omega1 -= learning_rate * jnp.complex64(jnp.real(omega1_grad))\n",
    "    omega2 -= learning_rate * jnp.complex64(jnp.real(omega2_grad))\n",
    "\n",
    "    prec = jnp.append(prec, jnp.real(prec_val))\n",
    "    \n",
    "    if j % 60 == 0: ## every 3 epochs\n",
    "        out_network = jnp.ravel(jnp.imag(vmap(network_jit, in_axes = (0,None,None,None,None,None,None,None,None), out_axes = 0)(x_train_vect, JJ0, JJ1, gamma0, gamma1, gamma2, omega0, omega1, omega2)))\n",
    "        out_network = out_network.reshape(len(x_train_vect), 10)\n",
    "        acc_classif_train = jnp.append(acc_classif_train, sum(jnp.argmax(out_network, axis = 1) == y_train)/len(x_train_vect) )\n",
    "\n",
    "        out_network_test = jnp.ravel(jnp.imag(vmap(network_jit, in_axes = (0,None,None,None,None,None,None,None,None), out_axes = 0)(x_test_vect, JJ0, JJ1, gamma0, gamma1, gamma2, omega0, omega1, omega2)))\n",
    "        out_network_test = out_network_test.reshape(len(x_test_vect), 10)\n",
    "        acc_classif_test = jnp.append(acc_classif_test, sum(jnp.argmax(out_network_test, axis = 1) == y_test)/len(x_test_vect) )\n",
    "\n",
    "  \n",
    "    ## save all system parameters after one epoch\n",
    "    ## comment out to save disk space\n",
    "    if last_step or (j == 0):\n",
    "        np.savetxt(\"epoch=\" + str(int(j/iterations_per_batch)) + \"_JJ0.csv\", JJ0, delimiter=\",\")\n",
    "        np.savetxt(\"epoch=\" + str(int(j/iterations_per_batch)) + \"_JJ1.csv\", JJ1, delimiter=\",\")\n",
    "        np.savetxt(\"epoch=\" + str(int(j/iterations_per_batch)) + \"_omega0.csv\", omega0, delimiter=\",\")\n",
    "        np.savetxt(\"epoch=\" + str(int(j/iterations_per_batch)) + \"_omega1.csv\", omega1, delimiter=\",\")\n",
    "        np.savetxt(\"epoch=\" + str(int(j/iterations_per_batch)) + \"_omega2.csv\", omega2, delimiter=\",\")\n",
    "\n",
    "out_network = jnp.ravel(jnp.imag(vmap(network_jit, in_axes = (0,None,None,None,None,None,None,None,None), out_axes = 0)(x_train_vect, JJ0, JJ1, gamma0, gamma1, gamma2, omega0, omega1, omega2)))"
   ]
  },
  {
   "cell_type": "code",
   "execution_count": null,
   "metadata": {},
   "outputs": [
    {
     "data": {
      "text/plain": [
       "[<matplotlib.lines.Line2D at 0x83dcce8250>]"
      ]
     },
     "metadata": {},
     "output_type": "display_data"
    },
    {
     "data": {
      "image/png": "[encoded data removed]",
      "text/plain": [
       "<Figure size 640x480 with 1 Axes>"
      ]
     },
     "metadata": {},
     "output_type": "display_data"
    }
   ],
   "source": [
    "plt.ylabel('test accuracy')\n",
    "plt.xlabel('number of epochs')\n",
    "plt.ylim([.9,1])\n",
    "\n",
    "plt.plot(jnp.arange(1,3*len(acc_classif_train),3), acc_classif_train)\n",
    "plt.plot(jnp.arange(1,3*len(acc_classif_test),3), acc_classif_test)"
   ]
  },
  {
   "cell_type": "code",
   "execution_count": null,
   "metadata": {},
   "outputs": [
    {
     "data": {
      "text/plain": [
       "Array(0.9682805, dtype=float32)"
      ]
     },
     "metadata": {},
     "output_type": "display_data"
    }
   ],
   "source": [
    "np.max(acc_classif_test)"
   ]
  },
  {
   "cell_type": "code",
   "execution_count": null,
   "metadata": {},
   "outputs": [
    {
     "data": {
      "text/plain": [
       "Array(1., dtype=float32)"
      ]
     },
     "metadata": {},
     "output_type": "display_data"
    }
   ],
   "source": [
    "np.max(acc_classif_train)"
   ]
  },
  {
   "cell_type": "code",
   "execution_count": null,
   "metadata": {},
   "outputs": [],
   "source": [
    "np.savetxt(\"N2=30_accuracy_test_run3.csv\", acc_classif_test, delimiter=\",\")"
   ]
  },
  {
   "cell_type": "code",
   "execution_count": null,
   "metadata": {},
   "outputs": [],
   "source": [
    "np.savetxt(\"N2=30_accuracy_training_run3.csv\", acc_classif_train, delimiter=\",\")"
   ]
  },
  {
   "cell_type": "code",
   "execution_count": null,
   "metadata": {},
   "outputs": [],
   "source": [
    "np.savetxt(\"N2=30_costfunction_run3.csv\", prec, delimiter=\",\")"
   ]
  },
  {
   "cell_type": "markdown",
   "metadata": {},
   "source": [
    "training for hidden layer size 20"
   ]
  },
  {
   "cell_type": "code",
   "execution_count": null,
   "metadata": {},
   "outputs": [],
   "source": [
    "## initialise\n",
    "\n",
    "'''' layer sizes:\n",
    "N0 = R * input_dimensions\n",
    "N1 : hidden layer size\n",
    "N2 = 10 (output dimension)\n",
    "''''\n",
    "\n",
    "N0 = 2*64\n",
    "N1 = 20\n",
    "N2 = 10\n",
    "\n",
    "gamma_max = 1.0\n",
    "\n",
    "## keys and subkeys for jax random number generator\n",
    "key, subkey1 = random.split(key)\n",
    "key, subkey2 = random.split(key)\n",
    "key, subkey3 = random.split(key)\n",
    "key, subkey4 = random.split(key)\n",
    "key, subkey5 = random.split(key)\n",
    "key, subkey6 = random.split(key)\n",
    "key, subkey7 = random.split(key)\n",
    "key, subkey8 = random.split(key)\n",
    "\n",
    "## detuning off-sets initially alternate between +2 and -2\n",
    "omega0 = np.empty((N0,),int)\n",
    "omega0[::2] = 2\n",
    "omega0[1::2] = -2\n",
    "omega0 = jnp.complex64(omega0 * gamma_max)\n",
    "\n",
    "## uniform decay\n",
    "gamma0 = 0.5 * gamma_max * jnp.complex64(jnp.ones((1,N0))[0])\n",
    "gamma1 = 0.5 * gamma_max * jnp.complex64(jnp.ones((1,N1))[0])\n",
    "gamma2 = 0.5 * gamma_max * jnp.complex64(jnp.ones((1,N2))[0])\n",
    "\n",
    "## initialise detunings in hidden layer and output layer\n",
    "## empirical observation: initialising with small, positive values leads to faster convergence and better performance (for this data set)\n",
    "omega1 = jnp.complex64(jnp.zeros((1,N1))[0]) + 0.001 * jnp.complex64(randomVector(subkey1, N1))\n",
    "omega2 = jnp.complex64(jnp.zeros((1,N2))[0]) + 0.001 * jnp.complex64(randomVector(subkey3, N2))\n",
    "\n",
    "## initialise coupling matrices to kappa + 0.1 * xi (with xi a random number between 0 and 1)\n",
    "JJ0 = gamma_max * jnp.complex64(jnp.ones((N0,N1))) + 0.1 * jnp.complex64(randomJJ(subkey4, N0, N1))\n",
    "JJ1 = gamma_max * jnp.complex64(jnp.ones((N1,N2))) + 0.1 * jnp.complex64(randomJJ(subkey5, N1, N2))"
   ]
  },
  {
   "cell_type": "code",
   "execution_count": null,
   "metadata": {},
   "outputs": [],
   "source": [
    "''''\n",
    "acc_classif_train : stores training accuracy\n",
    "acc_classif_test : stores test accuracy\n",
    "prec : stores cost function\n",
    "''''\n",
    "\n",
    "acc_classif_train = jnp.array([])\n",
    "acc_classif_test = jnp.array([])\n",
    "prec = jnp.array([])\n",
    "\n",
    "number_epochs = 5000"
   ]
  },
  {
   "cell_type": "code",
   "execution_count": null,
   "metadata": {},
   "outputs": [],
   "source": [
    "learning_rate = 20*1e-2\n",
    "batch_size = 200\n",
    "\n",
    "## x_train_vect is not divisible by 200\n",
    "## need to handle last minibatch of epoch separately\n",
    "iterations_per_batch = int(len(x_train_vect) / batch_size)\n",
    "last_step = True ## true after the last step of the epoch has been performed and the remaining samples have been taken care of\n",
    "\n",
    "## 19 steps correspond to one epoch (the last step handles the smaller mini-batch )\n",
    "for j in range(19 * number_epochs):\n",
    "\n",
    "    ## first step after an epoch has been evaluated\n",
    "    if (j % iterations_per_batch == 0) and last_step:\n",
    "        random_mix_2 = np.random.choice(len(x_train_vect), len(x_train_vect), replace = False)\n",
    "        last_setp = False\n",
    "  \n",
    "    ## at the end of an epoch evaluate the mini-batch with the remaining samples\n",
    "    if (j % iterations_per_batch == 0) and not last_step:\n",
    "        batch_subset = random_mix_2[iterations_per_batch * batch_size : ]\n",
    "        last_step = True ## this was the last set of the epoch\n",
    "        j -= 1\n",
    "    else:\n",
    "        batch_subset = random_mix_2[(j % iterations_per_batch) * batch_size : (j % iterations_per_batch+1) * batch_size]\n",
    "  \n",
    "    #batch_subset = np.random.choice(len(x_train_vect), batch_size, replace = False)\n",
    "    x_minibatch = x_train_vect[batch_subset]\n",
    "    y_minibatch = y_train_vect[batch_subset]\n",
    "\n",
    "    prec_val, [JJ0_grad, JJ1_grad, omega0_grad, omega1_grad, omega2_grad] = costF_value_and_grad_all_mean_jit(x_minibatch, y_minibatch, JJ0, JJ1, gamma0, gamma1, gamma2, omega0, omega1, omega2)\n",
    "\n",
    "    JJ0 -= learning_rate * jnp.complex64(jnp.real(JJ0_grad))\n",
    "    JJ1 -= learning_rate * jnp.complex64(jnp.real(JJ1_grad))\n",
    "    omega0 -= learning_rate * jnp.complex64(jnp.real(omega0_grad))\n",
    "    omega1 -= learning_rate * jnp.complex64(jnp.real(omega1_grad))\n",
    "    omega2 -= learning_rate * jnp.complex64(jnp.real(omega2_grad))\n",
    "\n",
    "    prec = jnp.append(prec, jnp.real(prec_val))\n",
    "    \n",
    "    if j % 60 == 0: ## every 3 epochs\n",
    "        out_network = jnp.ravel(jnp.imag(vmap(network_jit, in_axes = (0,None,None,None,None,None,None,None,None), out_axes = 0)(x_train_vect, JJ0, JJ1, gamma0, gamma1, gamma2, omega0, omega1, omega2)))\n",
    "        out_network = out_network.reshape(len(x_train_vect), 10)\n",
    "        acc_classif_train = jnp.append(acc_classif_train, sum(jnp.argmax(out_network, axis = 1) == y_train)/len(x_train_vect) )\n",
    "\n",
    "        out_network_test = jnp.ravel(jnp.imag(vmap(network_jit, in_axes = (0,None,None,None,None,None,None,None,None), out_axes = 0)(x_test_vect, JJ0, JJ1, gamma0, gamma1, gamma2, omega0, omega1, omega2)))\n",
    "        out_network_test = out_network_test.reshape(len(x_test_vect), 10)\n",
    "        acc_classif_test = jnp.append(acc_classif_test, sum(jnp.argmax(out_network_test, axis = 1) == y_test)/len(x_test_vect) )\n",
    "\n",
    "  \n",
    "    ## save all system parameters after one epoch\n",
    "    ## comment out to save disk space\n",
    "    if last_step or (j == 0):\n",
    "        np.savetxt(\"epoch=\" + str(int(j/iterations_per_batch)) + \"_JJ0.csv\", JJ0, delimiter=\",\")\n",
    "        np.savetxt(\"epoch=\" + str(int(j/iterations_per_batch)) + \"_JJ1.csv\", JJ1, delimiter=\",\")\n",
    "        np.savetxt(\"epoch=\" + str(int(j/iterations_per_batch)) + \"_omega0.csv\", omega0, delimiter=\",\")\n",
    "        np.savetxt(\"epoch=\" + str(int(j/iterations_per_batch)) + \"_omega1.csv\", omega1, delimiter=\",\")\n",
    "        np.savetxt(\"epoch=\" + str(int(j/iterations_per_batch)) + \"_omega2.csv\", omega2, delimiter=\",\")\n",
    "\n",
    "out_network = jnp.ravel(jnp.imag(vmap(network_jit, in_axes = (0,None,None,None,None,None,None,None,None), out_axes = 0)(x_train_vect, JJ0, JJ1, gamma0, gamma1, gamma2, omega0, omega1, omega2)))"
   ]
  },
  {
   "cell_type": "code",
   "execution_count": null,
   "metadata": {},
   "outputs": [
    {
     "data": {
      "text/plain": [
       "[<matplotlib.lines.Line2D at 0x730fd983d0>]"
      ]
     },
     "metadata": {},
     "output_type": "display_data"
    },
    {
     "data": {
      "image/png": "[encoded data removed]",
      "text/plain": [
       "<Figure size 640x480 with 1 Axes>"
      ]
     },
     "metadata": {},
     "output_type": "display_data"
    }
   ],
   "source": [
    "plt.ylabel('test accuracy')\n",
    "plt.xlabel('number of epochs')\n",
    "plt.ylim([.9,1])\n",
    "\n",
    "plt.plot(jnp.arange(1,3*len(acc_classif_train),3), acc_classif_train)\n",
    "plt.plot(jnp.arange(1,3*len(acc_classif_test),3), acc_classif_test)"
   ]
  },
  {
   "cell_type": "code",
   "execution_count": null,
   "metadata": {},
   "outputs": [
    {
     "data": {
      "text/plain": [
       "Array(0.9521425, dtype=float32)"
      ]
     },
     "metadata": {},
     "output_type": "display_data"
    }
   ],
   "source": [
    "np.max(acc_classif_test)"
   ]
  },
  {
   "cell_type": "code",
   "execution_count": null,
   "metadata": {},
   "outputs": [
    {
     "data": {
      "text/plain": [
       "Array(0.99764585, dtype=float32)"
      ]
     },
     "metadata": {},
     "output_type": "display_data"
    }
   ],
   "source": [
    "np.max(acc_classif_train)"
   ]
  },
  {
   "cell_type": "code",
   "execution_count": null,
   "metadata": {},
   "outputs": [],
   "source": [
    "np.savetxt(\"N2=20_accuracy_test.csv\", acc_classif_test, delimiter=\",\")"
   ]
  },
  {
   "cell_type": "code",
   "execution_count": null,
   "metadata": {},
   "outputs": [],
   "source": [
    "np.savetxt(\"N2=20_accuracy_training.csv\", acc_classif_train, delimiter=\",\")"
   ]
  },
  {
   "cell_type": "code",
   "execution_count": null,
   "metadata": {},
   "outputs": [],
   "source": [
    "np.savetxt(\"N2=20_costfunction.csv\", prec, delimiter=\",\")"
   ]
  },
  {
   "cell_type": "markdown",
   "metadata": {},
   "source": [
    "neuromorphic system without a hidden layer"
   ]
  },
  {
   "cell_type": "code",
   "execution_count": null,
   "metadata": {},
   "outputs": [],
   "source": [
    "'''' function calculates the output of the neuromorphic system without a hidden layer: the diagonal of the scattering matrix in Eq. (15)\n",
    "NOTE: JJ1 and omega2 are not used\n",
    "    (they are merely placeholders to keep the number of arguments in the function 'network' the same so that the same\n",
    "    functions for the computation of the cost function and gradients can be used)\n",
    "''''\n",
    "\n",
    "def network(x, JJ0, JJ1, gamma0, gamma1, gamma2, omega0, omega1, omega2):\n",
    "  x_tmp = jnp.repeat(x, 2)\n",
    "  xVect = x_tmp + omega0\n",
    "  layer0 = susceptLayer0(gamma0, xVect, omega0)\n",
    "  layer1 = jnp.linalg.inv(invSuscept(gamma1, omega1) + jnp.matmul(jnp.matmul(jnp.conjugate(jnp.transpose(JJ0)), layer0), JJ0))\n",
    "  return jnp.diag(jnp.identity(len(gamma2)) + jnp.matmul(jnp.matmul(jnp.diag(jnp.sqrt(gamma2)), layer1), jnp.diag(jnp.sqrt(gamma2))))\n",
    "\n",
    "network_jit = jax.jit(network)"
   ]
  },
  {
   "cell_type": "code",
   "execution_count": null,
   "metadata": {},
   "outputs": [],
   "source": [
    "## initialise\n",
    "\n",
    "'''' layer sizes:\n",
    "N0 = R * input_dimensions\n",
    "N1 : hidden layer size\n",
    "N2 = 10 (output dimension)\n",
    "''''\n",
    "\n",
    "N0 = 2*64\n",
    "N1 = 10 ## output dimension\n",
    "N2 = 10\n",
    "\n",
    "gamma_max = 1.0\n",
    "\n",
    "## keys and subkeys for jax random number generator\n",
    "\n",
    "key, subkey1 = random.split(key)\n",
    "key, subkey2 = random.split(key)\n",
    "key, subkey3 = random.split(key)\n",
    "key, subkey4 = random.split(key)\n",
    "key, subkey5 = random.split(key)\n",
    "key, subkey6 = random.split(key)\n",
    "key, subkey7 = random.split(key)\n",
    "key, subkey8 = random.split(key)\n",
    "\n",
    "## detuning off-sets initially alternate between +2 and -2\n",
    "omega0 = np.empty((N0,),int)\n",
    "omega0[::2] = 2\n",
    "omega0[1::2] = -2\n",
    "omega0 = jnp.complex64(omega0 * gamma_max)\n",
    "\n",
    "## uniform decay\n",
    "gamma0 = 0.5 * gamma_max * jnp.complex64(jnp.ones((1,N0))[0])\n",
    "gamma1 = 0.5 * gamma_max * jnp.complex64(jnp.ones((1,N1))[0])\n",
    "gamma2 = 0.5 * gamma_max * jnp.complex64(jnp.ones((1,N2))[0])\n",
    "\n",
    "## initialise detunings in hidden layer and output layer\n",
    "## empirical observation: initialising with small, positive values leads to faster convergence and better performance (for this data set)\n",
    "omega1 = jnp.complex64(jnp.zeros((1,N1))[0]) + 0.001 * jnp.complex64(randomVector(subkey1, N1))\n",
    "omega2 = jnp.complex64(jnp.zeros((1,N2))[0]) + 0.001 * jnp.complex64(randomVector(subkey3, N2))\n",
    "\n",
    "## initialise coupling matrices to kappa + 0.1 * xi (with xi a random number between 0 and 1)\n",
    "JJ0 = gamma_max * jnp.complex64(jnp.ones((N0,N1))) + 0.1 * jnp.complex64(randomJJ(subkey4, N0, N1))\n",
    "JJ1 = gamma_max * jnp.complex64(jnp.ones((N1,N2))) + 0.1 * jnp.complex64(randomJJ(subkey5, N1, N2))"
   ]
  },
  {
   "cell_type": "code",
   "execution_count": null,
   "metadata": {},
   "outputs": [],
   "source": [
    "''''\n",
    "acc_classif_train : stores training accuracy\n",
    "acc_classif_test : stores test accuracy\n",
    "prec : stores cost function\n",
    "''''\n",
    "\n",
    "acc_classif_train = jnp.array([])\n",
    "acc_classif_test = jnp.array([])\n",
    "prec = jnp.array([])\n",
    "\n",
    "number_epochs = 5000"
   ]
  },
  {
   "cell_type": "code",
   "execution_count": null,
   "metadata": {},
   "outputs": [],
   "source": [
    "learning_rate = 20*1e-2\n",
    "batch_size = 200\n",
    "\n",
    "## x_train_vect is not divisible by 200\n",
    "## need to handle last minibatch of epoch separately\n",
    "iterations_per_batch = int(len(x_train_vect) / batch_size)\n",
    "last_step = True ## true after the last step of the epoch has been performed and the remaining samples have been taken care of\n",
    "\n",
    "## 19 steps correspond to one epoch (the last step handles the smaller mini-batch )\n",
    "for j in range(19 * number_epochs):\n",
    "\n",
    "    ## first step after an epoch has been evaluated\n",
    "    if (j % iterations_per_batch == 0) and last_step:\n",
    "        random_mix_2 = np.random.choice(len(x_train_vect), len(x_train_vect), replace = False)\n",
    "        last_setp = False\n",
    "  \n",
    "    ## at the end of an epoch evaluate the mini-batch with the remaining samples\n",
    "    if (j % iterations_per_batch == 0) and not last_step:\n",
    "        batch_subset = random_mix_2[iterations_per_batch * batch_size : ]\n",
    "        last_step = True ## this was the last set of the epoch\n",
    "        j -= 1\n",
    "    else:\n",
    "        batch_subset = random_mix_2[(j % iterations_per_batch) * batch_size : (j % iterations_per_batch+1) * batch_size]\n",
    "  \n",
    "    #batch_subset = np.random.choice(len(x_train_vect), batch_size, replace = False)\n",
    "    x_minibatch = x_train_vect[batch_subset]\n",
    "    y_minibatch = y_train_vect[batch_subset]\n",
    "\n",
    "    prec_val, [JJ0_grad, JJ1_grad, omega0_grad, omega1_grad, omega2_grad] = costF_value_and_grad_all_mean_jit(x_minibatch, y_minibatch, JJ0, JJ1, gamma0, gamma1, gamma2, omega0, omega1, omega2)\n",
    "\n",
    "    JJ0 -= learning_rate * jnp.complex64(jnp.real(JJ0_grad))\n",
    "    JJ1 -= learning_rate * jnp.complex64(jnp.real(JJ1_grad))\n",
    "    omega0 -= learning_rate * jnp.complex64(jnp.real(omega0_grad))\n",
    "    omega1 -= learning_rate * jnp.complex64(jnp.real(omega1_grad))\n",
    "    omega2 -= learning_rate * jnp.complex64(jnp.real(omega2_grad))\n",
    "\n",
    "    prec = jnp.append(prec, jnp.real(prec_val))\n",
    "    \n",
    "    if j % 60 == 0: ## every 3 epochs\n",
    "        out_network = jnp.ravel(jnp.imag(vmap(network_jit, in_axes = (0,None,None,None,None,None,None,None,None), out_axes = 0)(x_train_vect, JJ0, JJ1, gamma0, gamma1, gamma2, omega0, omega1, omega2)))\n",
    "        out_network = out_network.reshape(len(x_train_vect), 10)\n",
    "        acc_classif_train = jnp.append(acc_classif_train, sum(jnp.argmax(out_network, axis = 1) == y_train)/len(x_train_vect) )\n",
    "\n",
    "        out_network_test = jnp.ravel(jnp.imag(vmap(network_jit, in_axes = (0,None,None,None,None,None,None,None,None), out_axes = 0)(x_test_vect, JJ0, JJ1, gamma0, gamma1, gamma2, omega0, omega1, omega2)))\n",
    "        out_network_test = out_network_test.reshape(len(x_test_vect), 10)\n",
    "        acc_classif_test = jnp.append(acc_classif_test, sum(jnp.argmax(out_network_test, axis = 1) == y_test)/len(x_test_vect) )\n",
    "\n",
    "  \n",
    "    ## save all system parameters after one epoch\n",
    "    ## comment out to save disk space\n",
    "    if last_step or (j == 0):\n",
    "        np.savetxt(\"epoch=\" + str(int(j/iterations_per_batch)) + \"_JJ0.csv\", JJ0, delimiter=\",\")\n",
    "        np.savetxt(\"epoch=\" + str(int(j/iterations_per_batch)) + \"_JJ1.csv\", JJ1, delimiter=\",\")\n",
    "        np.savetxt(\"epoch=\" + str(int(j/iterations_per_batch)) + \"_omega0.csv\", omega0, delimiter=\",\")\n",
    "        np.savetxt(\"epoch=\" + str(int(j/iterations_per_batch)) + \"_omega1.csv\", omega1, delimiter=\",\")\n",
    "        np.savetxt(\"epoch=\" + str(int(j/iterations_per_batch)) + \"_omega2.csv\", omega2, delimiter=\",\")\n",
    "\n",
    "out_network = jnp.ravel(jnp.imag(vmap(network_jit, in_axes = (0,None,None,None,None,None,None,None,None), out_axes = 0)(x_train_vect, JJ0, JJ1, gamma0, gamma1, gamma2, omega0, omega1, omega2)))"
   ]
  },
  {
   "cell_type": "code",
   "execution_count": null,
   "metadata": {},
   "outputs": [
    {
     "data": {
      "text/plain": [
       "[<matplotlib.lines.Line2D at 0x90c5dba10>]"
      ]
     },
     "metadata": {},
     "output_type": "display_data"
    },
    {
     "data": {
      "image/png": "[encoded data removed]",
      "text/plain": [
       "<Figure size 640x480 with 1 Axes>"
      ]
     },
     "metadata": {},
     "output_type": "display_data"
    }
   ],
   "source": [
    "plt.ylabel('test accuracy')\n",
    "plt.xlabel('number of epochs')\n",
    "plt.ylim([.9,1])\n",
    "\n",
    "plt.plot(jnp.arange(1,3*len(acc_classif_train),3), acc_classif_train)\n",
    "plt.plot(jnp.arange(1,3*len(acc_classif_test),3), acc_classif_test)"
   ]
  },
  {
   "cell_type": "code",
   "execution_count": null,
   "metadata": {},
   "outputs": [
    {
     "data": {
      "text/plain": [
       "Array(0.9887523, dtype=float32)"
      ]
     },
     "metadata": {},
     "output_type": "display_data"
    }
   ],
   "source": [
    "np.max(acc_classif_train)"
   ]
  },
  {
   "cell_type": "code",
   "execution_count": null,
   "metadata": {},
   "outputs": [
    {
     "data": {
      "text/plain": [
       "Array(0.94880354, dtype=float32)"
      ]
     },
     "metadata": {},
     "output_type": "display_data"
    }
   ],
   "source": [
    "np.max(acc_classif_test)"
   ]
  },
  {
   "cell_type": "code",
   "execution_count": null,
   "metadata": {},
   "outputs": [],
   "source": [
    "np.savetxt(\"N2=none_accuracy_test.csv\", acc_classif_test, delimiter=\",\")"
   ]
  },
  {
   "cell_type": "code",
   "execution_count": null,
   "metadata": {},
   "outputs": [],
   "source": [
    "np.savetxt(\"N2=none_accuracy_training.csv\", acc_classif_train, delimiter=\",\")"
   ]
  },
  {
   "cell_type": "code",
   "execution_count": null,
   "metadata": {},
   "outputs": [],
   "source": [
    "np.savetxt(\"N2=none_costfunction.csv\", prec, delimiter=\",\")"
   ]
  }
 ],
 "metadata": {
  "language_info": {
   "name": "python"
  }
 },
 "nbformat": 4,
 "nbformat_minor": 2
}
